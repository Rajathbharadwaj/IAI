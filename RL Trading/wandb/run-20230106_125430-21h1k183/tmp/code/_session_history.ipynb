{
 "cells": [
  {
   "cell_type": "code",
   "execution_count": 1,
   "id": "37bb89dc",
   "metadata": {},
   "outputs": [],
   "source": [
    "# Gym stuff\n",
    "import gym\n",
    "import gym_anytrading\n",
    "from stable_baselines3 import PPO\n",
    "\n",
    "# Stable baselines - rl stuff\n",
    "from stable_baselines3.common.vec_env import DummyVecEnv\n",
    "from stable_baselines3 import A2C, PPO\n",
    "\n",
    "# Processing libraries\n",
    "import numpy as np\n",
    "import pandas as pd\n",
    "from matplotlib import pyplot as plt"
   ]
  },
  {
   "cell_type": "code",
   "execution_count": 2,
   "id": "5d1db9de",
   "metadata": {},
   "outputs": [],
   "source": [
    "df = pd.read_csv('Reliance.csv')"
   ]
  },
  {
   "cell_type": "code",
   "execution_count": 3,
   "id": "e5153014",
   "metadata": {},
   "outputs": [
    {
     "name": "stdout",
     "output_type": "stream",
     "text": [
      "Index(['Date', 'Open', 'High', 'Low', 'Close', 'Volume', 'Dividends',\n",
      "       'Stock Splits', 'SUPERT_7_1.0', 'SUPERTd_7_1.0', 'SUPERTl_7_1.0',\n",
      "       'SUPERTs_7_1.0', 'SMA_5', 'WMA_10', 'SMA_14', 'WMA_28', 'SMA_44',\n",
      "       'PSARl_0.02_0.2', 'PSARs_0.02_0.2', 'PSARaf_0.02_0.2',\n",
      "       'PSARr_0.02_0.2'],\n",
      "      dtype='object')"
     ]
    }
   ],
   "source": [
    "df.columns"
   ]
  },
  {
   "cell_type": "code",
   "execution_count": 4,
   "id": "46dc263c",
   "metadata": {},
   "outputs": [
    {
     "name": "stdout",
     "output_type": "stream",
     "text": [
      "                           Date         Open         High          Low  \\\n",
      "0     1996-01-01 00:00:00+05:30    10.439797    10.495815    10.371046   \n",
      "1     1996-01-02 00:00:00+05:30    10.452527    10.503452    10.320119   \n",
      "2     1996-01-03 00:00:00+05:30    10.567110    11.048360    10.452527   \n",
      "3     1996-01-04 00:00:00+05:30    10.376140    10.409242    10.238640   \n",
      "4     1996-01-05 00:00:00+05:30    10.337946    10.337946    10.218270   \n",
      "...                         ...          ...          ...          ...   \n",
      "6790  2023-01-02 00:00:00+05:30  2550.000000  2579.000000  2548.199951   \n",
      "6791  2023-01-03 00:00:00+05:30  2565.050049  2573.000000  2547.800049   \n",
      "6792  2023-01-04 00:00:00+05:30  2557.000000  2561.050049  2514.000000   \n",
      "6793  2023-01-05 00:00:00+05:30  2523.500000  2536.399902  2504.000000   \n",
      "6794  2023-01-06 00:00:00+05:30  2526.649902  2547.949951  2518.300049   \n",
      "\n",
      "            Close     Volume  Dividends  Stock Splits  SUPERT_7_1.0  \\\n",
      "0       10.477991   48051995        0.0           0.0      0.000000   \n",
      "1       10.396508   77875009        0.0           0.0           NaN   \n",
      "2       10.475444   96602936        0.0           0.0           NaN   \n",
      "3       10.378686  100099436        0.0           0.0           NaN   \n",
      "4       10.307390   76935930        0.0           0.0           NaN   \n",
      "...           ...        ...        ...           ...           ...   \n",
      "6790  2575.899902    2453414        0.0           0.0   2522.412696   \n",
      "6791  2557.050049    3534596        0.0           0.0   2522.412696   \n",
      "6792  2518.550049    4275746        0.0           0.0   2577.947301   \n",
      "6793  2514.050049    6293519        0.0           0.0   2559.476174   \n",
      "6794  2536.899902    2929567        0.0           0.0   2559.476174   \n",
      "\n",
      "      SUPERTd_7_1.0  ...  SUPERTs_7_1.0        SMA_5       WMA_10  \\\n",
      "0                 1  ...            NaN          NaN          NaN   \n",
      "1                 1  ...            NaN          NaN          NaN   \n",
      "2                 1  ...            NaN          NaN          NaN   \n",
      "3                 1  ...            NaN          NaN          NaN   \n",
      "4                 1  ...            NaN    10.407204          NaN   \n",
      "...             ...  ...            ...          ...          ...   \n",
      "6790              1  ...            NaN  2551.109961  2550.232702   \n",
      "6791              1  ...            NaN  2553.579980  2550.316349   \n",
      "6792             -1  ...    2577.947301  2548.400000  2544.577268   \n",
      "6793             -1  ...    2559.476174  2542.550000  2539.219096   \n",
      "6794             -1  ...    2559.476174  2540.489990  2539.174534   \n",
      "\n",
      "           SMA_14       WMA_28       SMA_44  PSARl_0.02_0.2  PSARs_0.02_0.2  \\\n",
      "0             NaN          NaN          NaN             NaN             NaN   \n",
      "1             NaN          NaN          NaN       10.320119             NaN   \n",
      "2             NaN          NaN          NaN       10.320119             NaN   \n",
      "3             NaN          NaN          NaN             NaN       11.048360   \n",
      "4             NaN          NaN          NaN             NaN       11.048360   \n",
      "...           ...          ...          ...             ...             ...   \n",
      "6790  2566.046439  2587.494342  2603.731834             NaN     2612.262103   \n",
      "6791  2561.871443  2583.454689  2604.350014             NaN     2602.661135   \n",
      "6792  2557.600010  2576.814174  2603.734109             NaN     2593.828244   \n",
      "6793  2553.917864  2570.107280  2602.800021             NaN     2585.701985   \n",
      "6794  2549.460711  2565.452839  2601.530701             NaN     2578.225826   \n",
      "\n",
      "      PSARaf_0.02_0.2  PSARr_0.02_0.2  \n",
      "0                0.02               0  \n",
      "1                0.02               1  \n",
      "2                0.04               0  \n",
      "3                0.02               1  \n",
      "4                0.04               0  \n",
      "...               ...             ...  \n",
      "6790             0.08               0  \n",
      "6791             0.08               0  \n",
      "6792             0.08               0  \n",
      "6793             0.08               0  \n",
      "6794             0.08               0  \n",
      "\n",
      "[6795 rows x 21 columns]"
     ]
    }
   ],
   "source": [
    "df"
   ]
  },
  {
   "cell_type": "code",
   "execution_count": 5,
   "id": "d5e3823a",
   "metadata": {},
   "outputs": [
    {
     "name": "stdout",
     "output_type": "stream",
     "text": [
      "0       1996-01-01 00:00:00+05:30\n",
      "1       1996-01-02 00:00:00+05:30\n",
      "2       1996-01-03 00:00:00+05:30\n",
      "3       1996-01-04 00:00:00+05:30\n",
      "4       1996-01-05 00:00:00+05:30\n",
      "                  ...            \n",
      "6790    2023-01-02 00:00:00+05:30\n",
      "6791    2023-01-03 00:00:00+05:30\n",
      "6792    2023-01-04 00:00:00+05:30\n",
      "6793    2023-01-05 00:00:00+05:30\n",
      "6794    2023-01-06 00:00:00+05:30\n",
      "Name: Date, Length: 6795, dtype: object"
     ]
    }
   ],
   "source": [
    "df['Date']"
   ]
  },
  {
   "cell_type": "code",
   "execution_count": 6,
   "id": "7627e0bd",
   "metadata": {},
   "outputs": [
    {
     "name": "stdout",
     "output_type": "stream",
     "text": [
      "                                Open       High        Low      Close  \\\n",
      "Date                                                                    \n",
      "1996-01-01 00:00:00+05:30  10.439797  10.495815  10.371046  10.477991   \n",
      "1996-01-02 00:00:00+05:30  10.452527  10.503452  10.320119  10.396508   \n",
      "1996-01-03 00:00:00+05:30  10.567110  11.048360  10.452527  10.475444   \n",
      "1996-01-04 00:00:00+05:30  10.376140  10.409242  10.238640  10.378686   \n",
      "1996-01-05 00:00:00+05:30  10.337946  10.337946  10.218270  10.307390   \n",
      "\n",
      "                              Volume  Dividends  Stock Splits  SUPERT_7_1.0  \\\n",
      "Date                                                                          \n",
      "1996-01-01 00:00:00+05:30   48051995        0.0           0.0           0.0   \n",
      "1996-01-02 00:00:00+05:30   77875009        0.0           0.0           NaN   \n",
      "1996-01-03 00:00:00+05:30   96602936        0.0           0.0           NaN   \n",
      "1996-01-04 00:00:00+05:30  100099436        0.0           0.0           NaN   \n",
      "1996-01-05 00:00:00+05:30   76935930        0.0           0.0           NaN   \n",
      "\n",
      "                           SUPERTd_7_1.0  SUPERTl_7_1.0  SUPERTs_7_1.0  \\\n",
      "Date                                                                     \n",
      "1996-01-01 00:00:00+05:30              1            NaN            NaN   \n",
      "1996-01-02 00:00:00+05:30              1            NaN            NaN   \n",
      "1996-01-03 00:00:00+05:30              1            NaN            NaN   \n",
      "1996-01-04 00:00:00+05:30              1            NaN            NaN   \n",
      "1996-01-05 00:00:00+05:30              1            NaN            NaN   \n",
      "\n",
      "                               SMA_5  WMA_10  SMA_14  WMA_28  SMA_44  \\\n",
      "Date                                                                   \n",
      "1996-01-01 00:00:00+05:30        NaN     NaN     NaN     NaN     NaN   \n",
      "1996-01-02 00:00:00+05:30        NaN     NaN     NaN     NaN     NaN   \n",
      "1996-01-03 00:00:00+05:30        NaN     NaN     NaN     NaN     NaN   \n",
      "1996-01-04 00:00:00+05:30        NaN     NaN     NaN     NaN     NaN   \n",
      "1996-01-05 00:00:00+05:30  10.407204     NaN     NaN     NaN     NaN   \n",
      "\n",
      "                           PSARl_0.02_0.2  PSARs_0.02_0.2  PSARaf_0.02_0.2  \\\n",
      "Date                                                                         \n",
      "1996-01-01 00:00:00+05:30             NaN             NaN             0.02   \n",
      "1996-01-02 00:00:00+05:30       10.320119             NaN             0.02   \n",
      "1996-01-03 00:00:00+05:30       10.320119             NaN             0.04   \n",
      "1996-01-04 00:00:00+05:30             NaN        11.04836             0.02   \n",
      "1996-01-05 00:00:00+05:30             NaN        11.04836             0.04   \n",
      "\n",
      "                           PSARr_0.02_0.2  \n",
      "Date                                       \n",
      "1996-01-01 00:00:00+05:30               0  \n",
      "1996-01-02 00:00:00+05:30               1  \n",
      "1996-01-03 00:00:00+05:30               0  \n",
      "1996-01-04 00:00:00+05:30               1  \n",
      "1996-01-05 00:00:00+05:30               0  "
     ]
    }
   ],
   "source": [
    "df.set_index('Date', inplace=True)\n",
    "df.head()"
   ]
  },
  {
   "cell_type": "code",
   "execution_count": 7,
   "id": "de0c4f08",
   "metadata": {},
   "outputs": [
    {
     "name": "stdout",
     "output_type": "stream",
     "text": [
      "                                  Open         High          Low        Close  \\\n",
      "Date                                                                            \n",
      "1996-01-01 00:00:00+05:30    10.439797    10.495815    10.371046    10.477991   \n",
      "1996-01-02 00:00:00+05:30    10.452527    10.503452    10.320119    10.396508   \n",
      "1996-01-03 00:00:00+05:30    10.567110    11.048360    10.452527    10.475444   \n",
      "1996-01-04 00:00:00+05:30    10.376140    10.409242    10.238640    10.378686   \n",
      "1996-01-05 00:00:00+05:30    10.337946    10.337946    10.218270    10.307390   \n",
      "...                                ...          ...          ...          ...   \n",
      "2023-01-02 00:00:00+05:30  2550.000000  2579.000000  2548.199951  2575.899902   \n",
      "2023-01-03 00:00:00+05:30  2565.050049  2573.000000  2547.800049  2557.050049   \n",
      "2023-01-04 00:00:00+05:30  2557.000000  2561.050049  2514.000000  2518.550049   \n",
      "2023-01-05 00:00:00+05:30  2523.500000  2536.399902  2504.000000  2514.050049   \n",
      "2023-01-06 00:00:00+05:30  2526.649902  2547.949951  2518.300049  2536.899902   \n",
      "\n",
      "                              Volume  Dividends  Stock Splits  SUPERT_7_1.0  \\\n",
      "Date                                                                          \n",
      "1996-01-01 00:00:00+05:30   48051995        0.0           0.0      0.000000   \n",
      "1996-01-02 00:00:00+05:30   77875009        0.0           0.0           NaN   \n",
      "1996-01-03 00:00:00+05:30   96602936        0.0           0.0           NaN   \n",
      "1996-01-04 00:00:00+05:30  100099436        0.0           0.0           NaN   \n",
      "1996-01-05 00:00:00+05:30   76935930        0.0           0.0           NaN   \n",
      "...                              ...        ...           ...           ...   \n",
      "2023-01-02 00:00:00+05:30    2453414        0.0           0.0   2522.412696   \n",
      "2023-01-03 00:00:00+05:30    3534596        0.0           0.0   2522.412696   \n",
      "2023-01-04 00:00:00+05:30    4275746        0.0           0.0   2577.947301   \n",
      "2023-01-05 00:00:00+05:30    6293519        0.0           0.0   2559.476174   \n",
      "2023-01-06 00:00:00+05:30    2929567        0.0           0.0   2559.476174   \n",
      "\n",
      "                           SUPERTd_7_1.0  SUPERTl_7_1.0  SUPERTs_7_1.0  \\\n",
      "Date                                                                     \n",
      "1996-01-01 00:00:00+05:30              1            NaN            NaN   \n",
      "1996-01-02 00:00:00+05:30              1            NaN            NaN   \n",
      "1996-01-03 00:00:00+05:30              1            NaN            NaN   \n",
      "1996-01-04 00:00:00+05:30              1            NaN            NaN   \n",
      "1996-01-05 00:00:00+05:30              1            NaN            NaN   \n",
      "...                                  ...            ...            ...   \n",
      "2023-01-02 00:00:00+05:30              1    2522.412696            NaN   \n",
      "2023-01-03 00:00:00+05:30              1    2522.412696            NaN   \n",
      "2023-01-04 00:00:00+05:30             -1            NaN    2577.947301   \n",
      "2023-01-05 00:00:00+05:30             -1            NaN    2559.476174   \n",
      "2023-01-06 00:00:00+05:30             -1            NaN    2559.476174   \n",
      "\n",
      "                                 SMA_5       WMA_10       SMA_14       WMA_28  \\\n",
      "Date                                                                            \n",
      "1996-01-01 00:00:00+05:30          NaN          NaN          NaN          NaN   \n",
      "1996-01-02 00:00:00+05:30          NaN          NaN          NaN          NaN   \n",
      "1996-01-03 00:00:00+05:30          NaN          NaN          NaN          NaN   \n",
      "1996-01-04 00:00:00+05:30          NaN          NaN          NaN          NaN   \n",
      "1996-01-05 00:00:00+05:30    10.407204          NaN          NaN          NaN   \n",
      "...                                ...          ...          ...          ...   \n",
      "2023-01-02 00:00:00+05:30  2551.109961  2550.232702  2566.046439  2587.494342   \n",
      "2023-01-03 00:00:00+05:30  2553.579980  2550.316349  2561.871443  2583.454689   \n",
      "2023-01-04 00:00:00+05:30  2548.400000  2544.577268  2557.600010  2576.814174   \n",
      "2023-01-05 00:00:00+05:30  2542.550000  2539.219096  2553.917864  2570.107280   \n",
      "2023-01-06 00:00:00+05:30  2540.489990  2539.174534  2549.460711  2565.452839   \n",
      "\n",
      "                                SMA_44  PSARl_0.02_0.2  PSARs_0.02_0.2  \\\n",
      "Date                                                                     \n",
      "1996-01-01 00:00:00+05:30          NaN             NaN             NaN   \n",
      "1996-01-02 00:00:00+05:30          NaN       10.320119             NaN   \n",
      "1996-01-03 00:00:00+05:30          NaN       10.320119             NaN   \n",
      "1996-01-04 00:00:00+05:30          NaN             NaN       11.048360   \n",
      "1996-01-05 00:00:00+05:30          NaN             NaN       11.048360   \n",
      "...                                ...             ...             ...   \n",
      "2023-01-02 00:00:00+05:30  2603.731834             NaN     2612.262103   \n",
      "2023-01-03 00:00:00+05:30  2604.350014             NaN     2602.661135   \n",
      "2023-01-04 00:00:00+05:30  2603.734109             NaN     2593.828244   \n",
      "2023-01-05 00:00:00+05:30  2602.800021             NaN     2585.701985   \n",
      "2023-01-06 00:00:00+05:30  2601.530701             NaN     2578.225826   \n",
      "\n",
      "                           PSARaf_0.02_0.2  PSARr_0.02_0.2  \n",
      "Date                                                        \n",
      "1996-01-01 00:00:00+05:30             0.02               0  \n",
      "1996-01-02 00:00:00+05:30             0.02               1  \n",
      "1996-01-03 00:00:00+05:30             0.04               0  \n",
      "1996-01-04 00:00:00+05:30             0.02               1  \n",
      "1996-01-05 00:00:00+05:30             0.04               0  \n",
      "...                                    ...             ...  \n",
      "2023-01-02 00:00:00+05:30             0.08               0  \n",
      "2023-01-03 00:00:00+05:30             0.08               0  \n",
      "2023-01-04 00:00:00+05:30             0.08               0  \n",
      "2023-01-05 00:00:00+05:30             0.08               0  \n",
      "2023-01-06 00:00:00+05:30             0.08               0  \n",
      "\n",
      "[6795 rows x 20 columns]"
     ]
    }
   ],
   "source": [
    "df"
   ]
  },
  {
   "cell_type": "code",
   "execution_count": 8,
   "id": "42e12ffa",
   "metadata": {},
   "outputs": [],
   "source": [
    "df.rename(columns={'close': 'Close', 'open':'Open', 'low':'Low', 'volume':'Volume'}, inplace=True)"
   ]
  },
  {
   "cell_type": "code",
   "execution_count": 9,
   "id": "84b2ec60",
   "metadata": {},
   "outputs": [
    {
     "name": "stdout",
     "output_type": "stream",
     "text": [
      "(6795, 20)"
     ]
    }
   ],
   "source": [
    "df.shape"
   ]
  },
  {
   "cell_type": "code",
   "execution_count": 10,
   "id": "25d19322",
   "metadata": {},
   "outputs": [],
   "source": [
    "env = gym.make('stocks-v0', df=df, frame_bound=(5,4000), window_size=5)"
   ]
  },
  {
   "cell_type": "code",
   "execution_count": 11,
   "id": "d5095035",
   "metadata": {},
   "outputs": [
    {
     "name": "stdout",
     "output_type": "stream",
     "text": [
      "array([[ 1.04779911e+01,  0.00000000e+00],\n",
      "       [ 1.03965082e+01, -8.14828873e-02],\n",
      "       [ 1.04754438e+01,  7.89356232e-02],\n",
      "       ...,\n",
      "       [ 3.67148712e+02,  1.04157104e+01],\n",
      "       [ 3.59581970e+02, -7.56674194e+00],\n",
      "       [ 3.74464844e+02,  1.48828735e+01]])"
     ]
    }
   ],
   "source": [
    "env.signal_features"
   ]
  },
  {
   "cell_type": "code",
   "execution_count": 12,
   "id": "c425c17c",
   "metadata": {},
   "outputs": [
    {
     "name": "stdout",
     "output_type": "stream",
     "text": [
      "(4000, 2)"
     ]
    }
   ],
   "source": [
    "env.signal_features.shape"
   ]
  },
  {
   "cell_type": "code",
   "execution_count": 13,
   "id": "1a2af849",
   "metadata": {},
   "outputs": [],
   "source": [
    "env = gym.make('stocks-v0', df=df, frame_bound=(5,5000), window_size=5)"
   ]
  },
  {
   "cell_type": "code",
   "execution_count": 14,
   "id": "df9b2952",
   "metadata": {},
   "outputs": [
    {
     "name": "stdout",
     "output_type": "stream",
     "text": [
      "(5000, 2)"
     ]
    }
   ],
   "source": [
    "env.signal_features.shape"
   ]
  },
  {
   "cell_type": "code",
   "execution_count": 15,
   "id": "d8df07a3",
   "metadata": {},
   "outputs": [],
   "source": [
    "state = env.reset()\n",
    "while True: \n",
    "    action = env.action_space.sample()\n",
    "    n_state, reward, done, info = env.step(action)\n",
    "    if done: \n",
    "        print(\"info\", info)\n",
    "        break\n",
    "        \n",
    "plt.figure(figsize=(15,6))\n",
    "plt.cla()\n",
    "env.render_all()\n",
    "plt.show()"
   ]
  },
  {
   "cell_type": "code",
   "execution_count": 16,
   "id": "688603e7",
   "metadata": {},
   "outputs": [
    {
     "name": "stdout",
     "output_type": "stream",
     "text": [
      "<bound method Wrapper.compute_reward of <OrderEnforcing<StocksEnv<stocks-v0>>>>"
     ]
    }
   ],
   "source": [
    "env.compute_reward"
   ]
  },
  {
   "cell_type": "code",
   "execution_count": 17,
   "id": "b297b692",
   "metadata": {},
   "outputs": [],
   "source": [
    "env.compute_reward()"
   ]
  },
  {
   "cell_type": "code",
   "execution_count": 18,
   "id": "84e045ee",
   "metadata": {},
   "outputs": [
    {
     "name": "stdout",
     "output_type": "stream",
     "text": [
      "                                  Open         High          Low        Close  \\\n",
      "Date                                                                            \n",
      "1996-01-01 00:00:00+05:30    10.439797    10.495815    10.371046    10.477991   \n",
      "1996-01-02 00:00:00+05:30    10.452527    10.503452    10.320119    10.396508   \n",
      "1996-01-03 00:00:00+05:30    10.567110    11.048360    10.452527    10.475444   \n",
      "1996-01-04 00:00:00+05:30    10.376140    10.409242    10.238640    10.378686   \n",
      "1996-01-05 00:00:00+05:30    10.337946    10.337946    10.218270    10.307390   \n",
      "...                                ...          ...          ...          ...   \n",
      "2023-01-02 00:00:00+05:30  2550.000000  2579.000000  2548.199951  2575.899902   \n",
      "2023-01-03 00:00:00+05:30  2565.050049  2573.000000  2547.800049  2557.050049   \n",
      "2023-01-04 00:00:00+05:30  2557.000000  2561.050049  2514.000000  2518.550049   \n",
      "2023-01-05 00:00:00+05:30  2523.500000  2536.399902  2504.000000  2514.050049   \n",
      "2023-01-06 00:00:00+05:30  2526.649902  2547.949951  2518.300049  2536.899902   \n",
      "\n",
      "                              Volume  Dividends  Stock Splits  SUPERT_7_1.0  \\\n",
      "Date                                                                          \n",
      "1996-01-01 00:00:00+05:30   48051995        0.0           0.0      0.000000   \n",
      "1996-01-02 00:00:00+05:30   77875009        0.0           0.0           NaN   \n",
      "1996-01-03 00:00:00+05:30   96602936        0.0           0.0           NaN   \n",
      "1996-01-04 00:00:00+05:30  100099436        0.0           0.0           NaN   \n",
      "1996-01-05 00:00:00+05:30   76935930        0.0           0.0           NaN   \n",
      "...                              ...        ...           ...           ...   \n",
      "2023-01-02 00:00:00+05:30    2453414        0.0           0.0   2522.412696   \n",
      "2023-01-03 00:00:00+05:30    3534596        0.0           0.0   2522.412696   \n",
      "2023-01-04 00:00:00+05:30    4275746        0.0           0.0   2577.947301   \n",
      "2023-01-05 00:00:00+05:30    6293519        0.0           0.0   2559.476174   \n",
      "2023-01-06 00:00:00+05:30    2929567        0.0           0.0   2559.476174   \n",
      "\n",
      "                           SUPERTd_7_1.0  SUPERTl_7_1.0  SUPERTs_7_1.0  \\\n",
      "Date                                                                     \n",
      "1996-01-01 00:00:00+05:30              1            NaN            NaN   \n",
      "1996-01-02 00:00:00+05:30              1            NaN            NaN   \n",
      "1996-01-03 00:00:00+05:30              1            NaN            NaN   \n",
      "1996-01-04 00:00:00+05:30              1            NaN            NaN   \n",
      "1996-01-05 00:00:00+05:30              1            NaN            NaN   \n",
      "...                                  ...            ...            ...   \n",
      "2023-01-02 00:00:00+05:30              1    2522.412696            NaN   \n",
      "2023-01-03 00:00:00+05:30              1    2522.412696            NaN   \n",
      "2023-01-04 00:00:00+05:30             -1            NaN    2577.947301   \n",
      "2023-01-05 00:00:00+05:30             -1            NaN    2559.476174   \n",
      "2023-01-06 00:00:00+05:30             -1            NaN    2559.476174   \n",
      "\n",
      "                                 SMA_5       WMA_10       SMA_14       WMA_28  \\\n",
      "Date                                                                            \n",
      "1996-01-01 00:00:00+05:30          NaN          NaN          NaN          NaN   \n",
      "1996-01-02 00:00:00+05:30          NaN          NaN          NaN          NaN   \n",
      "1996-01-03 00:00:00+05:30          NaN          NaN          NaN          NaN   \n",
      "1996-01-04 00:00:00+05:30          NaN          NaN          NaN          NaN   \n",
      "1996-01-05 00:00:00+05:30    10.407204          NaN          NaN          NaN   \n",
      "...                                ...          ...          ...          ...   \n",
      "2023-01-02 00:00:00+05:30  2551.109961  2550.232702  2566.046439  2587.494342   \n",
      "2023-01-03 00:00:00+05:30  2553.579980  2550.316349  2561.871443  2583.454689   \n",
      "2023-01-04 00:00:00+05:30  2548.400000  2544.577268  2557.600010  2576.814174   \n",
      "2023-01-05 00:00:00+05:30  2542.550000  2539.219096  2553.917864  2570.107280   \n",
      "2023-01-06 00:00:00+05:30  2540.489990  2539.174534  2549.460711  2565.452839   \n",
      "\n",
      "                                SMA_44  PSARl_0.02_0.2  PSARs_0.02_0.2  \\\n",
      "Date                                                                     \n",
      "1996-01-01 00:00:00+05:30          NaN             NaN             NaN   \n",
      "1996-01-02 00:00:00+05:30          NaN       10.320119             NaN   \n",
      "1996-01-03 00:00:00+05:30          NaN       10.320119             NaN   \n",
      "1996-01-04 00:00:00+05:30          NaN             NaN       11.048360   \n",
      "1996-01-05 00:00:00+05:30          NaN             NaN       11.048360   \n",
      "...                                ...             ...             ...   \n",
      "2023-01-02 00:00:00+05:30  2603.731834             NaN     2612.262103   \n",
      "2023-01-03 00:00:00+05:30  2604.350014             NaN     2602.661135   \n",
      "2023-01-04 00:00:00+05:30  2603.734109             NaN     2593.828244   \n",
      "2023-01-05 00:00:00+05:30  2602.800021             NaN     2585.701985   \n",
      "2023-01-06 00:00:00+05:30  2601.530701             NaN     2578.225826   \n",
      "\n",
      "                           PSARaf_0.02_0.2  PSARr_0.02_0.2  \n",
      "Date                                                        \n",
      "1996-01-01 00:00:00+05:30             0.02               0  \n",
      "1996-01-02 00:00:00+05:30             0.02               1  \n",
      "1996-01-03 00:00:00+05:30             0.04               0  \n",
      "1996-01-04 00:00:00+05:30             0.02               1  \n",
      "1996-01-05 00:00:00+05:30             0.04               0  \n",
      "...                                    ...             ...  \n",
      "2023-01-02 00:00:00+05:30             0.08               0  \n",
      "2023-01-03 00:00:00+05:30             0.08               0  \n",
      "2023-01-04 00:00:00+05:30             0.08               0  \n",
      "2023-01-05 00:00:00+05:30             0.08               0  \n",
      "2023-01-06 00:00:00+05:30             0.08               0  \n",
      "\n",
      "[6795 rows x 20 columns]"
     ]
    }
   ],
   "source": [
    "env.df"
   ]
  },
  {
   "cell_type": "code",
   "execution_count": 19,
   "id": "22c7c359",
   "metadata": {},
   "outputs": [
    {
     "name": "stdout",
     "output_type": "stream",
     "text": [
      "(6795, 20)"
     ]
    }
   ],
   "source": [
    "env.df.shape"
   ]
  },
  {
   "cell_type": "code",
   "execution_count": 20,
   "id": "6205063e",
   "metadata": {},
   "outputs": [],
   "source": [
    "env = gym.make('stocks-v0', df=df, frame_bound=(5,5000), window_size=5)"
   ]
  },
  {
   "cell_type": "code",
   "execution_count": 21,
   "id": "2c86bd39",
   "metadata": {},
   "outputs": [
    {
     "name": "stdout",
     "output_type": "stream",
     "text": [
      "(5000, 2)"
     ]
    }
   ],
   "source": [
    "env.signal_features.shape"
   ]
  },
  {
   "cell_type": "code",
   "execution_count": 22,
   "id": "7577a180",
   "metadata": {},
   "outputs": [
    {
     "name": "stdout",
     "output_type": "stream",
     "text": [
      "(6795, 20)"
     ]
    }
   ],
   "source": [
    "env.df.shape"
   ]
  },
  {
   "cell_type": "code",
   "execution_count": 23,
   "id": "ffb8e89a",
   "metadata": {},
   "outputs": [
    {
     "name": "stdout",
     "output_type": "stream",
     "text": [
      "Box([[-inf -inf]\n",
      " [-inf -inf]\n",
      " [-inf -inf]\n",
      " [-inf -inf]\n",
      " [-inf -inf]], [[inf inf]\n",
      " [inf inf]\n",
      " [inf inf]\n",
      " [inf inf]\n",
      " [inf inf]], (5, 2), float64)"
     ]
    }
   ],
   "source": [
    "env.observation_space"
   ]
  },
  {
   "cell_type": "code",
   "execution_count": 24,
   "id": "1c4df53f",
   "metadata": {},
   "outputs": [
    {
     "name": "stdout",
     "output_type": "stream",
     "text": [
      "<bound method Wrapper.class_name of <class 'gym.wrappers.order_enforcing.OrderEnforcing'>>"
     ]
    }
   ],
   "source": [
    "env.class_name"
   ]
  },
  {
   "cell_type": "code",
   "execution_count": 25,
   "id": "ca3bf0f5",
   "metadata": {},
   "outputs": [
    {
     "name": "stdout",
     "output_type": "stream",
     "text": [
      "<gym_anytrading.envs.stocks_env.StocksEnv at 0x15ce62e20>"
     ]
    }
   ],
   "source": [
    "env.env"
   ]
  },
  {
   "cell_type": "code",
   "execution_count": 26,
   "id": "23385dd4",
   "metadata": {},
   "outputs": [
    {
     "name": "stdout",
     "output_type": "stream",
     "text": [
      "(5, 5000)"
     ]
    }
   ],
   "source": [
    "env.env.frame_bound"
   ]
  },
  {
   "cell_type": "code",
   "execution_count": 27,
   "id": "b3b0d423",
   "metadata": {},
   "outputs": [
    {
     "name": "stdout",
     "output_type": "stream",
     "text": [
      "<function tuple.index(value, start=0, stop=9223372036854775807, /)>"
     ]
    }
   ],
   "source": [
    "env.env.frame_bound.index"
   ]
  },
  {
   "cell_type": "code",
   "execution_count": 28,
   "id": "f6c7ee21",
   "metadata": {},
   "outputs": [
    {
     "name": "stdout",
     "output_type": "stream",
     "text": [
      "<function tuple.count(value, /)>"
     ]
    }
   ],
   "source": [
    "env.env.frame_bound.count"
   ]
  },
  {
   "cell_type": "code",
   "execution_count": 29,
   "id": "9892c4c9",
   "metadata": {},
   "outputs": [],
   "source": [
    "env.env.frame_bound.count()"
   ]
  },
  {
   "cell_type": "code",
   "execution_count": 30,
   "id": "8e219b1e",
   "metadata": {},
   "outputs": [
    {
     "name": "stdout",
     "output_type": "stream",
     "text": [
      "0"
     ]
    }
   ],
   "source": [
    "env.env.frame_bound.count(3)"
   ]
  },
  {
   "cell_type": "code",
   "execution_count": 31,
   "id": "10804e44",
   "metadata": {},
   "outputs": [],
   "source": [
    "env.env.history"
   ]
  },
  {
   "cell_type": "code",
   "execution_count": 32,
   "id": "fbcdddba",
   "metadata": {},
   "outputs": [],
   "source": [
    "env.env.history()"
   ]
  },
  {
   "cell_type": "code",
   "execution_count": 33,
   "id": "fdc24a4f",
   "metadata": {},
   "outputs": [
    {
     "name": "stdout",
     "output_type": "stream",
     "text": [
      "<bound method TradingEnv.render_all of <gym_anytrading.envs.stocks_env.StocksEnv object at 0x15ce62e20>>"
     ]
    }
   ],
   "source": [
    "env.env.render_all"
   ]
  },
  {
   "cell_type": "code",
   "execution_count": 34,
   "id": "f6679185",
   "metadata": {},
   "outputs": [],
   "source": [
    "env.env.render_all()"
   ]
  },
  {
   "cell_type": "code",
   "execution_count": 35,
   "id": "c3284420",
   "metadata": {},
   "outputs": [
    {
     "name": "stdout",
     "output_type": "stream",
     "text": [
      "<bound method StocksEnv.max_possible_profit of <gym_anytrading.envs.stocks_env.StocksEnv object at 0x15ce62e20>>"
     ]
    }
   ],
   "source": [
    "env.env.max_possible_profit"
   ]
  },
  {
   "cell_type": "code",
   "execution_count": 36,
   "id": "81b9cbfd",
   "metadata": {},
   "outputs": [
    {
     "name": "stdout",
     "output_type": "stream",
     "text": [
      "3.4226217697017766e+19"
     ]
    }
   ],
   "source": [
    "env.env.max_possible_profit()"
   ]
  },
  {
   "cell_type": "code",
   "execution_count": 37,
   "id": "fd8dd70c",
   "metadata": {},
   "outputs": [],
   "source": [
    "state = env.reset()\n",
    "while True: \n",
    "    action = env.action_space.sample()\n",
    "    n_state, reward, done, info = env.step(action)\n",
    "    if done: \n",
    "        print(\"info\", info)\n",
    "        break\n",
    "        \n",
    "plt.figure(figsize=(15,6))\n",
    "plt.cla()\n",
    "env.render_all()\n",
    "plt.show()"
   ]
  },
  {
   "cell_type": "code",
   "execution_count": 38,
   "id": "30ea81fd",
   "metadata": {},
   "outputs": [],
   "source": [
    "state = env.reset()\n",
    "while True: \n",
    "    action = env.action_space.sample()\n",
    "    n_state, reward, done, info = env.step(action)\n",
    "    if done: \n",
    "        print(\"info\", info)\n",
    "        break\n",
    "        \n",
    "plt.figure(figsize=(15,6))\n",
    "plt.cla()\n",
    "env.render_all()\n",
    "plt.show()"
   ]
  },
  {
   "cell_type": "code",
   "execution_count": 39,
   "id": "88cdf631",
   "metadata": {},
   "outputs": [
    {
     "name": "stdout",
     "output_type": "stream",
     "text": [
      "{'render.modes': ['human']}"
     ]
    }
   ],
   "source": [
    "env.env.metadata"
   ]
  },
  {
   "cell_type": "code",
   "execution_count": 40,
   "id": "d8e77021",
   "metadata": {},
   "outputs": [
    {
     "name": "stdout",
     "output_type": "stream",
     "text": [
      "array([ 10.4779911 ,  10.39650822,  10.47544384, ..., 397.29522705,\n",
      "       400.39071655, 410.6534729 ])"
     ]
    }
   ],
   "source": [
    "env.env.prices"
   ]
  },
  {
   "cell_type": "code",
   "execution_count": 41,
   "id": "19377232",
   "metadata": {},
   "outputs": [
    {
     "name": "stdout",
     "output_type": "stream",
     "text": [
      "(-inf, inf)"
     ]
    }
   ],
   "source": [
    "env.env.reward_range"
   ]
  },
  {
   "cell_type": "code",
   "execution_count": 42,
   "id": "640285a7",
   "metadata": {},
   "outputs": [],
   "source": [
    "env_maker = lambda: gym.make('stocks-v0', df=df, frame_bound=(10,5000), window_size=10)\n",
    "env = DummyVecEnv([env_maker])"
   ]
  },
  {
   "cell_type": "code",
   "execution_count": 43,
   "id": "9de8e729",
   "metadata": {},
   "outputs": [],
   "source": [
    "model = A2C('MlpPolicy', env, verbose=1) \n",
    "model.learn(total_timesteps=1000000)"
   ]
  },
  {
   "cell_type": "code",
   "execution_count": 44,
   "id": "d6be8fbf",
   "metadata": {},
   "outputs": [
    {
     "name": "stdout",
     "output_type": "stream",
     "text": [
      " 1    3577\n",
      "-1    3218\n",
      "Name: SUPERTd_7_1.0, dtype: int64"
     ]
    }
   ],
   "source": [
    "df['SUPERTd_7_1.0'].value_counts()"
   ]
  },
  {
   "cell_type": "code",
   "execution_count": 45,
   "id": "5399efa6",
   "metadata": {},
   "outputs": [],
   "source": [
    "import pandas_ta as ta"
   ]
  },
  {
   "cell_type": "code",
   "execution_count": 46,
   "id": "9eeb2f16",
   "metadata": {},
   "outputs": [],
   "source": [
    "df['RSI'] = df.ta.rsi(14)"
   ]
  },
  {
   "cell_type": "code",
   "execution_count": 47,
   "id": "a34597ea",
   "metadata": {},
   "outputs": [
    {
     "name": "stdout",
     "output_type": "stream",
     "text": [
      "0    6195\n",
      "1     600\n",
      "Name: PSARr_0.02_0.2, dtype: int64"
     ]
    }
   ],
   "source": [
    "df['PSARr_0.02_0.2'].value_counts()"
   ]
  },
  {
   "cell_type": "code",
   "execution_count": 48,
   "id": "7b92167c",
   "metadata": {},
   "outputs": [
    {
     "name": "stdout",
     "output_type": "stream",
     "text": [
      "Index(['Open', 'High', 'Low', 'Close', 'Volume', 'Dividends', 'Stock Splits',\n",
      "       'SUPERT_7_1.0', 'SUPERTd_7_1.0', 'SUPERTl_7_1.0', 'SUPERTs_7_1.0',\n",
      "       'SMA_5', 'WMA_10', 'SMA_14', 'WMA_28', 'SMA_44', 'PSARl_0.02_0.2',\n",
      "       'PSARs_0.02_0.2', 'PSARaf_0.02_0.2', 'PSARr_0.02_0.2', 'RSI'],\n",
      "      dtype='object')"
     ]
    }
   ],
   "source": [
    "df.columns"
   ]
  },
  {
   "cell_type": "code",
   "execution_count": 49,
   "id": "1d55b764",
   "metadata": {},
   "outputs": [
    {
     "name": "stdout",
     "output_type": "stream",
     "text": [
      "                                  Open         High          Low        Close  \\\n",
      "Date                                                                            \n",
      "1996-01-01 00:00:00+05:30    10.439797    10.495815    10.371046    10.477991   \n",
      "1996-01-02 00:00:00+05:30    10.452527    10.503452    10.320119    10.396508   \n",
      "1996-01-03 00:00:00+05:30    10.567110    11.048360    10.452527    10.475444   \n",
      "1996-01-04 00:00:00+05:30    10.376140    10.409242    10.238640    10.378686   \n",
      "1996-01-05 00:00:00+05:30    10.337946    10.337946    10.218270    10.307390   \n",
      "...                                ...          ...          ...          ...   \n",
      "2023-01-02 00:00:00+05:30  2550.000000  2579.000000  2548.199951  2575.899902   \n",
      "2023-01-03 00:00:00+05:30  2565.050049  2573.000000  2547.800049  2557.050049   \n",
      "2023-01-04 00:00:00+05:30  2557.000000  2561.050049  2514.000000  2518.550049   \n",
      "2023-01-05 00:00:00+05:30  2523.500000  2536.399902  2504.000000  2514.050049   \n",
      "2023-01-06 00:00:00+05:30  2526.649902  2547.949951  2518.300049  2536.899902   \n",
      "\n",
      "                              Volume  Dividends  Stock Splits  SUPERT_7_1.0  \\\n",
      "Date                                                                          \n",
      "1996-01-01 00:00:00+05:30   48051995        0.0           0.0      0.000000   \n",
      "1996-01-02 00:00:00+05:30   77875009        0.0           0.0      0.000000   \n",
      "1996-01-03 00:00:00+05:30   96602936        0.0           0.0      0.000000   \n",
      "1996-01-04 00:00:00+05:30  100099436        0.0           0.0      0.000000   \n",
      "1996-01-05 00:00:00+05:30   76935930        0.0           0.0      0.000000   \n",
      "...                              ...        ...           ...           ...   \n",
      "2023-01-02 00:00:00+05:30    2453414        0.0           0.0   2522.412696   \n",
      "2023-01-03 00:00:00+05:30    3534596        0.0           0.0   2522.412696   \n",
      "2023-01-04 00:00:00+05:30    4275746        0.0           0.0   2577.947301   \n",
      "2023-01-05 00:00:00+05:30    6293519        0.0           0.0   2559.476174   \n",
      "2023-01-06 00:00:00+05:30    2929567        0.0           0.0   2559.476174   \n",
      "\n",
      "                           SUPERTd_7_1.0  SUPERTl_7_1.0  ...        SMA_5  \\\n",
      "Date                                                     ...                \n",
      "1996-01-01 00:00:00+05:30              1       0.000000  ...     0.000000   \n",
      "1996-01-02 00:00:00+05:30              1       0.000000  ...     0.000000   \n",
      "1996-01-03 00:00:00+05:30              1       0.000000  ...     0.000000   \n",
      "1996-01-04 00:00:00+05:30              1       0.000000  ...     0.000000   \n",
      "1996-01-05 00:00:00+05:30              1       0.000000  ...    10.407204   \n",
      "...                                  ...            ...  ...          ...   \n",
      "2023-01-02 00:00:00+05:30              1    2522.412696  ...  2551.109961   \n",
      "2023-01-03 00:00:00+05:30              1    2522.412696  ...  2553.579980   \n",
      "2023-01-04 00:00:00+05:30             -1       0.000000  ...  2548.400000   \n",
      "2023-01-05 00:00:00+05:30             -1       0.000000  ...  2542.550000   \n",
      "2023-01-06 00:00:00+05:30             -1       0.000000  ...  2540.489990   \n",
      "\n",
      "                                WMA_10       SMA_14       WMA_28       SMA_44  \\\n",
      "Date                                                                            \n",
      "1996-01-01 00:00:00+05:30     0.000000     0.000000     0.000000     0.000000   \n",
      "1996-01-02 00:00:00+05:30     0.000000     0.000000     0.000000     0.000000   \n",
      "1996-01-03 00:00:00+05:30     0.000000     0.000000     0.000000     0.000000   \n",
      "1996-01-04 00:00:00+05:30     0.000000     0.000000     0.000000     0.000000   \n",
      "1996-01-05 00:00:00+05:30     0.000000     0.000000     0.000000     0.000000   \n",
      "...                                ...          ...          ...          ...   \n",
      "2023-01-02 00:00:00+05:30  2550.232702  2566.046439  2587.494342  2603.731834   \n",
      "2023-01-03 00:00:00+05:30  2550.316349  2561.871443  2583.454689  2604.350014   \n",
      "2023-01-04 00:00:00+05:30  2544.577268  2557.600010  2576.814174  2603.734109   \n",
      "2023-01-05 00:00:00+05:30  2539.219096  2553.917864  2570.107280  2602.800021   \n",
      "2023-01-06 00:00:00+05:30  2539.174534  2549.460711  2565.452839  2601.530701   \n",
      "\n",
      "                           PSARl_0.02_0.2  PSARs_0.02_0.2  PSARaf_0.02_0.2  \\\n",
      "Date                                                                         \n",
      "1996-01-01 00:00:00+05:30        0.000000        0.000000             0.02   \n",
      "1996-01-02 00:00:00+05:30       10.320119        0.000000             0.02   \n",
      "1996-01-03 00:00:00+05:30       10.320119        0.000000             0.04   \n",
      "1996-01-04 00:00:00+05:30        0.000000       11.048360             0.02   \n",
      "1996-01-05 00:00:00+05:30        0.000000       11.048360             0.04   \n",
      "...                                   ...             ...              ...   \n",
      "2023-01-02 00:00:00+05:30        0.000000     2612.262103             0.08   \n",
      "2023-01-03 00:00:00+05:30        0.000000     2602.661135             0.08   \n",
      "2023-01-04 00:00:00+05:30        0.000000     2593.828244             0.08   \n",
      "2023-01-05 00:00:00+05:30        0.000000     2585.701985             0.08   \n",
      "2023-01-06 00:00:00+05:30        0.000000     2578.225826             0.08   \n",
      "\n",
      "                           PSARr_0.02_0.2        RSI  \n",
      "Date                                                  \n",
      "1996-01-01 00:00:00+05:30               0   0.000000  \n",
      "1996-01-02 00:00:00+05:30               1   0.000000  \n",
      "1996-01-03 00:00:00+05:30               0   0.000000  \n",
      "1996-01-04 00:00:00+05:30               1   0.000000  \n",
      "1996-01-05 00:00:00+05:30               0   0.000000  \n",
      "...                                   ...        ...  \n",
      "2023-01-02 00:00:00+05:30               0  48.897033  \n",
      "2023-01-03 00:00:00+05:30               0  45.753058  \n",
      "2023-01-04 00:00:00+05:30               0  40.084067  \n",
      "2023-01-05 00:00:00+05:30               0  39.468503  \n",
      "2023-01-06 00:00:00+05:30               0  44.157914  \n",
      "\n",
      "[6795 rows x 21 columns]"
     ]
    }
   ],
   "source": [
    "df.fillna(0)"
   ]
  },
  {
   "cell_type": "code",
   "execution_count": 50,
   "id": "c3933f8e",
   "metadata": {},
   "outputs": [],
   "source": [
    "env.df.loc[:, ['Low', 'Volume','SMA_5', 'RSI', 'SUPERTd_7_1.0', 'PSARr_0.02_0.2']].fillna(0).to_numpy()"
   ]
  },
  {
   "cell_type": "code",
   "execution_count": 51,
   "id": "a1ecc66c",
   "metadata": {},
   "outputs": [],
   "source": [
    "env_maker = lambda: gym.make('stocks-v0', df=df, frame_bound=(10,5000), window_size=10)\n",
    "env = DummyVecEnv([env_maker])"
   ]
  },
  {
   "cell_type": "code",
   "execution_count": 52,
   "id": "1fcacc1f",
   "metadata": {},
   "outputs": [
    {
     "name": "stdout",
     "output_type": "stream",
     "text": [
      " 1    3577\n",
      "-1    3218\n",
      "Name: SUPERTd_7_1.0, dtype: int64"
     ]
    }
   ],
   "source": [
    "df['SUPERTd_7_1.0'].value_counts()"
   ]
  },
  {
   "cell_type": "code",
   "execution_count": 53,
   "id": "e3f0e003",
   "metadata": {},
   "outputs": [],
   "source": [
    "import pandas_ta as ta"
   ]
  },
  {
   "cell_type": "code",
   "execution_count": 54,
   "id": "330d007a",
   "metadata": {},
   "outputs": [],
   "source": [
    "df['RSI'] = df.ta.rsi(14)"
   ]
  },
  {
   "cell_type": "code",
   "execution_count": 55,
   "id": "f2a9ee1f",
   "metadata": {},
   "outputs": [
    {
     "name": "stdout",
     "output_type": "stream",
     "text": [
      "0    6195\n",
      "1     600\n",
      "Name: PSARr_0.02_0.2, dtype: int64"
     ]
    }
   ],
   "source": [
    "df['PSARr_0.02_0.2'].value_counts()"
   ]
  },
  {
   "cell_type": "code",
   "execution_count": 56,
   "id": "4553bff3",
   "metadata": {},
   "outputs": [
    {
     "name": "stdout",
     "output_type": "stream",
     "text": [
      "Index(['Open', 'High', 'Low', 'Close', 'Volume', 'Dividends', 'Stock Splits',\n",
      "       'SUPERT_7_1.0', 'SUPERTd_7_1.0', 'SUPERTl_7_1.0', 'SUPERTs_7_1.0',\n",
      "       'SMA_5', 'WMA_10', 'SMA_14', 'WMA_28', 'SMA_44', 'PSARl_0.02_0.2',\n",
      "       'PSARs_0.02_0.2', 'PSARaf_0.02_0.2', 'PSARr_0.02_0.2', 'RSI'],\n",
      "      dtype='object')"
     ]
    }
   ],
   "source": [
    "df.columns"
   ]
  },
  {
   "cell_type": "code",
   "execution_count": 57,
   "id": "73d01fdc",
   "metadata": {},
   "outputs": [
    {
     "name": "stdout",
     "output_type": "stream",
     "text": [
      "                                  Open         High          Low        Close  \\\n",
      "Date                                                                            \n",
      "1996-01-01 00:00:00+05:30    10.439797    10.495815    10.371046    10.477991   \n",
      "1996-01-02 00:00:00+05:30    10.452527    10.503452    10.320119    10.396508   \n",
      "1996-01-03 00:00:00+05:30    10.567110    11.048360    10.452527    10.475444   \n",
      "1996-01-04 00:00:00+05:30    10.376140    10.409242    10.238640    10.378686   \n",
      "1996-01-05 00:00:00+05:30    10.337946    10.337946    10.218270    10.307390   \n",
      "...                                ...          ...          ...          ...   \n",
      "2023-01-02 00:00:00+05:30  2550.000000  2579.000000  2548.199951  2575.899902   \n",
      "2023-01-03 00:00:00+05:30  2565.050049  2573.000000  2547.800049  2557.050049   \n",
      "2023-01-04 00:00:00+05:30  2557.000000  2561.050049  2514.000000  2518.550049   \n",
      "2023-01-05 00:00:00+05:30  2523.500000  2536.399902  2504.000000  2514.050049   \n",
      "2023-01-06 00:00:00+05:30  2526.649902  2547.949951  2518.300049  2536.899902   \n",
      "\n",
      "                              Volume  Dividends  Stock Splits  SUPERT_7_1.0  \\\n",
      "Date                                                                          \n",
      "1996-01-01 00:00:00+05:30   48051995        0.0           0.0      0.000000   \n",
      "1996-01-02 00:00:00+05:30   77875009        0.0           0.0      0.000000   \n",
      "1996-01-03 00:00:00+05:30   96602936        0.0           0.0      0.000000   \n",
      "1996-01-04 00:00:00+05:30  100099436        0.0           0.0      0.000000   \n",
      "1996-01-05 00:00:00+05:30   76935930        0.0           0.0      0.000000   \n",
      "...                              ...        ...           ...           ...   \n",
      "2023-01-02 00:00:00+05:30    2453414        0.0           0.0   2522.412696   \n",
      "2023-01-03 00:00:00+05:30    3534596        0.0           0.0   2522.412696   \n",
      "2023-01-04 00:00:00+05:30    4275746        0.0           0.0   2577.947301   \n",
      "2023-01-05 00:00:00+05:30    6293519        0.0           0.0   2559.476174   \n",
      "2023-01-06 00:00:00+05:30    2929567        0.0           0.0   2559.476174   \n",
      "\n",
      "                           SUPERTd_7_1.0  SUPERTl_7_1.0  ...        SMA_5  \\\n",
      "Date                                                     ...                \n",
      "1996-01-01 00:00:00+05:30              1       0.000000  ...     0.000000   \n",
      "1996-01-02 00:00:00+05:30              1       0.000000  ...     0.000000   \n",
      "1996-01-03 00:00:00+05:30              1       0.000000  ...     0.000000   \n",
      "1996-01-04 00:00:00+05:30              1       0.000000  ...     0.000000   \n",
      "1996-01-05 00:00:00+05:30              1       0.000000  ...    10.407204   \n",
      "...                                  ...            ...  ...          ...   \n",
      "2023-01-02 00:00:00+05:30              1    2522.412696  ...  2551.109961   \n",
      "2023-01-03 00:00:00+05:30              1    2522.412696  ...  2553.579980   \n",
      "2023-01-04 00:00:00+05:30             -1       0.000000  ...  2548.400000   \n",
      "2023-01-05 00:00:00+05:30             -1       0.000000  ...  2542.550000   \n",
      "2023-01-06 00:00:00+05:30             -1       0.000000  ...  2540.489990   \n",
      "\n",
      "                                WMA_10       SMA_14       WMA_28       SMA_44  \\\n",
      "Date                                                                            \n",
      "1996-01-01 00:00:00+05:30     0.000000     0.000000     0.000000     0.000000   \n",
      "1996-01-02 00:00:00+05:30     0.000000     0.000000     0.000000     0.000000   \n",
      "1996-01-03 00:00:00+05:30     0.000000     0.000000     0.000000     0.000000   \n",
      "1996-01-04 00:00:00+05:30     0.000000     0.000000     0.000000     0.000000   \n",
      "1996-01-05 00:00:00+05:30     0.000000     0.000000     0.000000     0.000000   \n",
      "...                                ...          ...          ...          ...   \n",
      "2023-01-02 00:00:00+05:30  2550.232702  2566.046439  2587.494342  2603.731834   \n",
      "2023-01-03 00:00:00+05:30  2550.316349  2561.871443  2583.454689  2604.350014   \n",
      "2023-01-04 00:00:00+05:30  2544.577268  2557.600010  2576.814174  2603.734109   \n",
      "2023-01-05 00:00:00+05:30  2539.219096  2553.917864  2570.107280  2602.800021   \n",
      "2023-01-06 00:00:00+05:30  2539.174534  2549.460711  2565.452839  2601.530701   \n",
      "\n",
      "                           PSARl_0.02_0.2  PSARs_0.02_0.2  PSARaf_0.02_0.2  \\\n",
      "Date                                                                         \n",
      "1996-01-01 00:00:00+05:30        0.000000        0.000000             0.02   \n",
      "1996-01-02 00:00:00+05:30       10.320119        0.000000             0.02   \n",
      "1996-01-03 00:00:00+05:30       10.320119        0.000000             0.04   \n",
      "1996-01-04 00:00:00+05:30        0.000000       11.048360             0.02   \n",
      "1996-01-05 00:00:00+05:30        0.000000       11.048360             0.04   \n",
      "...                                   ...             ...              ...   \n",
      "2023-01-02 00:00:00+05:30        0.000000     2612.262103             0.08   \n",
      "2023-01-03 00:00:00+05:30        0.000000     2602.661135             0.08   \n",
      "2023-01-04 00:00:00+05:30        0.000000     2593.828244             0.08   \n",
      "2023-01-05 00:00:00+05:30        0.000000     2585.701985             0.08   \n",
      "2023-01-06 00:00:00+05:30        0.000000     2578.225826             0.08   \n",
      "\n",
      "                           PSARr_0.02_0.2        RSI  \n",
      "Date                                                  \n",
      "1996-01-01 00:00:00+05:30               0   0.000000  \n",
      "1996-01-02 00:00:00+05:30               1   0.000000  \n",
      "1996-01-03 00:00:00+05:30               0   0.000000  \n",
      "1996-01-04 00:00:00+05:30               1   0.000000  \n",
      "1996-01-05 00:00:00+05:30               0   0.000000  \n",
      "...                                   ...        ...  \n",
      "2023-01-02 00:00:00+05:30               0  48.897033  \n",
      "2023-01-03 00:00:00+05:30               0  45.753058  \n",
      "2023-01-04 00:00:00+05:30               0  40.084067  \n",
      "2023-01-05 00:00:00+05:30               0  39.468503  \n",
      "2023-01-06 00:00:00+05:30               0  44.157914  \n",
      "\n",
      "[6795 rows x 21 columns]"
     ]
    }
   ],
   "source": [
    "df.fillna(0)"
   ]
  },
  {
   "cell_type": "code",
   "execution_count": 58,
   "id": "5d12ce75",
   "metadata": {},
   "outputs": [],
   "source": [
    "env.df.loc[:, ['Low', 'Volume','SMA_5', 'RSI', 'SUPERTd_7_1.0', 'PSARr_0.02_0.2']].fillna(0).to_numpy()"
   ]
  },
  {
   "cell_type": "code",
   "execution_count": 59,
   "id": "eec8fc14",
   "metadata": {},
   "outputs": [],
   "source": [
    "def add_signals(env):\n",
    "    start = env.frame_bound[0] - env.window_size\n",
    "    end = env.frame_bound[1]\n",
    "    prices = env.df.loc[:, 'Low'].to_numpy()[start:end]\n",
    "    signal_features = env.df.loc[:, ['Low', 'Volume','SMA_5', 'RSI', 'SUPERTd_7_1.0', 'PSARr_0.02_0.2']].fillna(0).to_numpy()[start:end]\n",
    "    return prices, signal_features"
   ]
  },
  {
   "cell_type": "code",
   "execution_count": 60,
   "id": "d6b9ef36",
   "metadata": {},
   "outputs": [],
   "source": [
    "from gym_anytrading.envs import StocksEnv\n",
    "\n",
    "class MyCustomEnv(StocksEnv):\n",
    "    _process_data = add_signals\n",
    "    \n",
    "env2 = MyCustomEnv(df=df, window_size=12, frame_bound=(12,50))"
   ]
  },
  {
   "cell_type": "code",
   "execution_count": 61,
   "id": "6bc79e54",
   "metadata": {},
   "outputs": [
    {
     "name": "stdout",
     "output_type": "stream",
     "text": [
      "array([[ 1.03710464e+01,  4.80519950e+07,  0.00000000e+00,\n",
      "         0.00000000e+00,  1.00000000e+00,  0.00000000e+00],\n",
      "       [ 1.03201192e+01,  7.78750090e+07,  0.00000000e+00,\n",
      "         0.00000000e+00,  1.00000000e+00,  1.00000000e+00],\n",
      "       [ 1.04525269e+01,  9.66029360e+07,  0.00000000e+00,\n",
      "         0.00000000e+00,  1.00000000e+00,  0.00000000e+00],\n",
      "       [ 1.02386398e+01,  1.00099436e+08,  0.00000000e+00,\n",
      "         0.00000000e+00,  1.00000000e+00,  1.00000000e+00],\n",
      "       [ 1.02182699e+01,  7.69359300e+07,  1.04072039e+01,\n",
      "         0.00000000e+00,  1.00000000e+00,  0.00000000e+00],\n",
      "       [ 9.79303950e+00,  8.62885840e+07,  1.02905840e+01,\n",
      "         0.00000000e+00,  1.00000000e+00,  0.00000000e+00],\n",
      "       [ 9.28123321e+00,  1.79415702e+08,  1.01332233e+01,\n",
      "         0.00000000e+00,  1.00000000e+00,  0.00000000e+00],\n",
      "       [ 9.31942837e+00,  1.27653926e+08,  9.91067753e+00,\n",
      "         0.00000000e+00,  1.00000000e+00,  0.00000000e+00],\n",
      "       [ 9.25576849e+00,  1.89051436e+08,  9.76604767e+00,\n",
      "         0.00000000e+00,  1.00000000e+00,  0.00000000e+00],\n",
      "       [ 9.49003032e+00,  1.72918416e+08,  9.61530724e+00,\n",
      "         0.00000000e+00,  1.00000000e+00,  0.00000000e+00],\n",
      "       [ 9.40091083e+00,  9.22914480e+07,  9.52720547e+00,\n",
      "         0.00000000e+00,  1.00000000e+00,  0.00000000e+00],\n",
      "       [ 9.39072647e+00,  1.00259719e+08,  9.49970608e+00,\n",
      "         0.00000000e+00,  1.00000000e+00,  0.00000000e+00],\n",
      "       [ 9.01642038e+00,  1.38279150e+08,  9.44623413e+00,\n",
      "         0.00000000e+00, -1.00000000e+00,  0.00000000e+00],\n",
      "       [ 8.74905781e+00,  1.74217485e+08,  9.28378105e+00,\n",
      "         0.00000000e+00, -1.00000000e+00,  0.00000000e+00],\n",
      "       [ 8.62938586e+00,  1.49773006e+08,  9.11063366e+00,\n",
      "         1.36516987e+01, -1.00000000e+00,  0.00000000e+00],\n",
      "       [ 8.70831846e+00,  1.56270292e+08,  8.98688374e+00,\n",
      "         2.09712356e+01, -1.00000000e+00,  0.00000000e+00],\n",
      "       [ 7.99535506e+00,  1.63795200e+08,  8.78470745e+00,\n",
      "         1.70307649e+01, -1.00000000e+00,  0.00000000e+00],\n",
      "       [ 8.04628152e+00,  1.62072156e+08,  8.59984646e+00,\n",
      "         1.47207120e+01, -1.00000000e+00,  0.00000000e+00],\n",
      "       [ 7.77892338e+00,  1.66534879e+08,  8.39665279e+00,\n",
      "         1.25498247e+01, -1.00000000e+00,  0.00000000e+00],\n",
      "       [ 7.82730293e+00,  0.00000000e+00,  8.22452316e+00,\n",
      "         1.25498247e+01, -1.00000000e+00,  0.00000000e+00],\n",
      "       [ 7.74327697e+00,  3.01314299e+08,  8.14609795e+00,\n",
      "         3.30701156e+01,  1.00000000e+00,  0.00000000e+00],\n",
      "       [ 8.58100234e+00,  4.90083300e+08,  8.29429226e+00,\n",
      "         4.89542781e+01,  1.00000000e+00,  1.00000000e+00],\n",
      "       [ 8.77197576e+00,  3.37615209e+08,  8.46031055e+00,\n",
      "         4.58478583e+01,  1.00000000e+00,  0.00000000e+00],\n",
      "       [ 8.88655875e+00,  2.95555091e+08,  8.76739292e+00,\n",
      "         5.17718776e+01,  1.00000000e+00,  0.00000000e+00],\n",
      "       [ 9.61225142e+00,  3.77841766e+08,  9.27766953e+00,\n",
      "         6.37663829e+01,  1.00000000e+00,  0.00000000e+00],\n",
      "       [ 1.06205835e+01,  5.64175497e+08,  9.83734398e+00,\n",
      "         7.04831899e+01,  1.00000000e+00,  0.00000000e+00],\n",
      "       [ 1.00629458e+01,  5.73328443e+08,  1.00568344e+01,\n",
      "         5.78731789e+01, -1.00000000e+00,  0.00000000e+00],\n",
      "       [ 9.62753054e+00,  4.13246254e+08,  1.03547508e+01,\n",
      "         5.94566018e+01, -1.00000000e+00,  0.00000000e+00],\n",
      "       [ 1.04907212e+01,  3.79193186e+08,  1.07636852e+01,\n",
      "         6.60524229e+01,  1.00000000e+00,  0.00000000e+00],\n",
      "       [ 1.14124784e+01,  4.58934072e+08,  1.11018324e+01,\n",
      "         6.98654452e+01,  1.00000000e+00,  0.00000000e+00],\n",
      "       [ 1.11527593e+01,  4.48392867e+08,  1.11160917e+01,\n",
      "         6.13837856e+01,  1.00000000e+00,  0.00000000e+00],\n",
      "       [ 1.11069242e+01,  4.70284449e+08,  1.14547483e+01,\n",
      "         6.54451083e+01,  1.00000000e+00,  0.00000000e+00],\n",
      "       [ 1.19090067e+01,  2.87264960e+08,  1.17567383e+01,\n",
      "         6.54890330e+01,  1.00000000e+00,  0.00000000e+00],\n",
      "       [ 1.16110912e+01,  3.22651352e+08,  1.18372013e+01,\n",
      "         6.33222200e+01,  1.00000000e+00,  0.00000000e+00],\n",
      "       [ 1.15117835e+01,  2.28740914e+08,  1.17434975e+01,\n",
      "         6.09478057e+01,  1.00000000e+00,  0.00000000e+00],\n",
      "       [ 1.16492845e+01,  2.39163846e+08,  1.18244692e+01,\n",
      "         6.18128715e+01,  1.00000000e+00,  0.00000000e+00],\n",
      "       [ 1.09490546e+01,  2.94959199e+08,  1.16457195e+01,\n",
      "         5.48951786e+01, -1.00000000e+00,  1.00000000e+00],\n",
      "       [ 1.10992851e+01,  0.00000000e+00,  1.14654419e+01,\n",
      "         5.48951786e+01, -1.00000000e+00,  0.00000000e+00],\n",
      "       [ 1.12571550e+01,  2.83157057e+08,  1.14404881e+01,\n",
      "         5.98300357e+01, -1.00000000e+00,  0.00000000e+00],\n",
      "       [ 1.13666482e+01,  2.52022694e+08,  1.14323408e+01,\n",
      "         5.83649944e+01, -1.00000000e+00,  0.00000000e+00],\n",
      "       [ 1.15117858e+01,  2.51499188e+08,  1.14058596e+01,\n",
      "         5.85878587e+01, -1.00000000e+00,  0.00000000e+00],\n",
      "       [ 1.12571550e+01,  2.50359756e+08,  1.14766464e+01,\n",
      "         5.68826819e+01, -1.00000000e+00,  0.00000000e+00],\n",
      "       [ 1.14837725e+01,  1.97441744e+08,  1.15586367e+01,\n",
      "         5.74469411e+01, -1.00000000e+00,  0.00000000e+00],\n",
      "       [ 1.07198869e+01,  3.22080020e+08,  1.13793776e+01,\n",
      "         4.86304727e+01, -1.00000000e+00,  0.00000000e+00],\n",
      "       [ 1.06205816e+01,  3.33743853e+08,  1.12372940e+01,\n",
      "         4.93405437e+01, -1.00000000e+00,  0.00000000e+00],\n",
      "       [ 1.06129468e+01,  3.10777470e+08,  1.10677113e+01,\n",
      "         4.80297984e+01, -1.00000000e+00,  0.00000000e+00],\n",
      "       [ 1.07377148e+01,  0.00000000e+00,  1.09246103e+01,\n",
      "         4.80297984e+01, -1.00000000e+00,  0.00000000e+00],\n",
      "       [ 1.08268334e+01,  2.50989255e+08,  1.08466942e+01,\n",
      "         5.29695977e+01, -1.00000000e+00,  0.00000000e+00],\n",
      "       [ 1.11654884e+01,  3.94310217e+08,  1.09327587e+01,\n",
      "         5.41888191e+01,  1.00000000e+00,  0.00000000e+00],\n",
      "       [ 1.09363224e+01,  2.98510635e+08,  1.09948881e+01,\n",
      "         5.33110699e+01,  1.00000000e+00,  0.00000000e+00]])"
     ]
    }
   ],
   "source": [
    "env2.signal_features"
   ]
  },
  {
   "cell_type": "code",
   "execution_count": 62,
   "id": "28ea772e",
   "metadata": {},
   "outputs": [],
   "source": [
    "from gym_anytrading.envs import StocksEnv\n",
    "\n",
    "class MyCustomEnv(StocksEnv):\n",
    "    _process_data = add_signals\n",
    "    \n",
    "env2 = MyCustomEnv(df=df, window_size=12, frame_bound=(5001,6700))"
   ]
  },
  {
   "cell_type": "code",
   "execution_count": 63,
   "id": "d9e1f9fd",
   "metadata": {},
   "outputs": [
    {
     "name": "stdout",
     "output_type": "stream",
     "text": [
      "array([[ 4.05700720e+02,  3.67541800e+06,  4.10934485e+02,\n",
      "         4.25042364e+01,  1.00000000e+00,  0.00000000e+00],\n",
      "       [ 4.07462751e+02,  5.31176500e+06,  4.12687012e+02,\n",
      "         4.35500728e+01,  1.00000000e+00,  0.00000000e+00],\n",
      "       [ 4.12034576e+02,  6.19554800e+06,  4.12544147e+02,\n",
      "         4.54334169e+01,  1.00000000e+00,  0.00000000e+00],\n",
      "       ...,\n",
      "       [ 2.64019995e+03,  3.41973000e+06,  2.63404209e+03,\n",
      "         6.64535491e+01,  1.00000000e+00,  0.00000000e+00],\n",
      "       [ 2.60494995e+03,  4.36612300e+06,  2.64014761e+03,\n",
      "         5.85132709e+01,  1.00000000e+00,  0.00000000e+00],\n",
      "       [ 2.58600000e+03,  4.37117900e+06,  2.63644834e+03,\n",
      "         5.73850269e+01, -1.00000000e+00,  0.00000000e+00]])"
     ]
    }
   ],
   "source": [
    "env2.signal_features"
   ]
  },
  {
   "cell_type": "code",
   "execution_count": 64,
   "id": "bb8d4341",
   "metadata": {},
   "outputs": [],
   "source": [
    "import wandb\n",
    "from wandb.integration.sb3 import WandbCallback"
   ]
  },
  {
   "cell_type": "code",
   "execution_count": 65,
   "id": "8972aff0",
   "metadata": {},
   "outputs": [],
   "source": [
    "env_maker = lambda: env2\n",
    "env = DummyVecEnv([env_maker])"
   ]
  },
  {
   "cell_type": "code",
   "execution_count": 66,
   "id": "2b072257",
   "metadata": {},
   "outputs": [
    {
     "data": {
      "text/html": [
       "Tracking run with wandb version 0.13.7"
      ],
      "text/plain": [
       "<IPython.core.display.HTML object>"
      ]
     },
     "metadata": {},
     "output_type": "display_data"
    },
    {
     "data": {
      "text/html": [
       "Run data is saved locally in <code>/Users/rajathdb/D/RL Trading/wandb/run-20230106_125430-21h1k183</code>"
      ],
      "text/plain": [
       "<IPython.core.display.HTML object>"
      ]
     },
     "metadata": {},
     "output_type": "display_data"
    },
    {
     "data": {
      "text/html": [
       "Syncing run <strong><a href=\"https://wandb.ai/full-metal/sb3-New/runs/21h1k183\" target=\"_blank\">pretty-bush-1</a></strong> to <a href=\"https://wandb.ai/full-metal/sb3-New\" target=\"_blank\">Weights & Biases</a> (<a href=\"https://wandb.me/run\" target=\"_blank\">docs</a>)<br/>"
      ],
      "text/plain": [
       "<IPython.core.display.HTML object>"
      ]
     },
     "metadata": {},
     "output_type": "display_data"
    }
   ],
   "source": [
    "config = {\n",
    "    \"policy_type\": \"MlpPolicy\",\n",
    "    \"total_timesteps\": 1000000,\n",
    "    \"env_id\": \"Stocks-v0\",\n",
    "}\n",
    "run = wandb.init(\n",
    "    project=\"sb3-New\",\n",
    "    config=config,\n",
    "    sync_tensorboard=True,  # auto-upload sb3's tensorboard metrics\n",
    "    monitor_gym=True,  # auto-upload the videos of agents playing the game\n",
    "    save_code=True,  # optional\n",
    ")\n",
    "\n",
    "model_with_signals_A2C = A2C(config[\"policy_type\"], env, verbose=1, tensorboard_log=f\"runs/{run.id}\")\n",
    "model_with_signals_A2C.learn(\n",
    "    total_timesteps=config[\"total_timesteps\"],\n",
    "    callback=WandbCallback(\n",
    "        model_save_path=f\"models/{run.id}\",\n",
    "        verbose=2,\n",
    "    ),\n",
    ")\n",
    "run.finish()"
   ]
  },
  {
   "cell_type": "code",
   "execution_count": 67,
   "id": "bd6b926e",
   "metadata": {},
   "outputs": [],
   "source": [
    "from gym_anytrading.envs import StocksEnv\n",
    "\n",
    "class MyCustomEnv(StocksEnv):\n",
    "    _process_data = add_signals\n",
    "    \n",
    "env2 = MyCustomEnv(df=df, window_size=12, frame_bound=(12,5000))"
   ]
  },
  {
   "cell_type": "code",
   "execution_count": 68,
   "id": "cbc34894",
   "metadata": {},
   "outputs": [
    {
     "name": "stdout",
     "output_type": "stream",
     "text": [
      "array([[ 1.03710464e+01,  4.80519950e+07,  0.00000000e+00,\n",
      "         0.00000000e+00,  1.00000000e+00,  0.00000000e+00],\n",
      "       [ 1.03201192e+01,  7.78750090e+07,  0.00000000e+00,\n",
      "         0.00000000e+00,  1.00000000e+00,  1.00000000e+00],\n",
      "       [ 1.04525269e+01,  9.66029360e+07,  0.00000000e+00,\n",
      "         0.00000000e+00,  1.00000000e+00,  0.00000000e+00],\n",
      "       ...,\n",
      "       [ 3.94652159e+02,  5.36476900e+06,  4.04600623e+02,\n",
      "         3.75337633e+01, -1.00000000e+00,  0.00000000e+00],\n",
      "       [ 3.93413934e+02,  7.31637400e+06,  4.01043170e+02,\n",
      "         3.99135617e+01, -1.00000000e+00,  1.00000000e+00],\n",
      "       [ 3.99319180e+02,  7.98026400e+06,  4.02414697e+02,\n",
      "         4.71081063e+01,  1.00000000e+00,  0.00000000e+00]])"
     ]
    }
   ],
   "source": [
    "env2.signal_features"
   ]
  },
  {
   "cell_type": "code",
   "execution_count": 69,
   "id": "b1d8f683",
   "metadata": {},
   "outputs": [],
   "source": [
    "import wandb\n",
    "from wandb.integration.sb3 import WandbCallback"
   ]
  },
  {
   "cell_type": "code",
   "execution_count": 70,
   "id": "572ebe4e",
   "metadata": {},
   "outputs": [],
   "source": [
    "env_maker = lambda: env2\n",
    "env = DummyVecEnv([env_maker])"
   ]
  },
  {
   "cell_type": "code",
   "execution_count": 71,
   "id": "ed0d8988",
   "metadata": {},
   "outputs": [],
   "source": [
    "config = {\n",
    "    \"policy_type\": \"MlpPolicy\",\n",
    "    \"total_timesteps\": 1000000,\n",
    "    \"env_id\": \"Stocks-v0\",\n",
    "}\n",
    "run = wandb.init(\n",
    "    project=\"sb3-Latest\",\n",
    "    config=config,\n",
    "    sync_tensorboard=True,  # auto-upload sb3's tensorboard metrics\n",
    "    monitor_gym=True,  # auto-upload the videos of agents playing the game\n",
    "    save_code=True,  # optional\n",
    ")\n",
    "\n",
    "model_with_signals_A2C = A2C(config[\"policy_type\"], env, verbose=1, tensorboard_log=f\"runs/{run.id}\")\n",
    "model_with_signals_A2C.learn(\n",
    "    total_timesteps=config[\"total_timesteps\"],\n",
    "    callback=WandbCallback(\n",
    "        model_save_path=f\"models/{run.id}\",\n",
    "        verbose=2,\n",
    "    ),\n",
    ")\n",
    "run.finish()"
   ]
  }
 ],
 "metadata": {
  "kernelspec": {
   "display_name": "Python 3",
   "language": "python",
   "name": "python3"
  },
  "language_info": {
   "codemirror_mode": {
    "name": "ipython",
    "version": 3
   },
   "file_extension": ".py",
   "mimetype": "text/x-python",
   "name": "python",
   "nbconvert_exporter": "python",
   "pygments_lexer": "ipython3",
   "version": "3.8.15"
  }
 },
 "nbformat": 4,
 "nbformat_minor": 5
}
